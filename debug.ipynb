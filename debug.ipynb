{
 "cells": [
  {
   "cell_type": "code",
   "execution_count": null,
   "metadata": {},
   "outputs": [],
   "source": [
    "from src.graph import build_graph\n",
    "\n",
    "graph = build_graph()\n",
    "\n",
    "res = graph.invoke({'domanda': 'Quali sono i piatti che includono le Chocobo Wings come ingrediente?'}, debug=True)"
   ]
  },
  {
   "cell_type": "code",
   "execution_count": 2,
   "metadata": {},
   "outputs": [
    {
     "name": "stdout",
     "output_type": "stream",
     "text": [
      "1\n",
      "2\n",
      "3\n",
      "4\n",
      "5\n",
      "6\n",
      "7\n",
      "8\n",
      "9\n",
      "10\n",
      "11\n",
      "12\n"
     ]
    }
   ],
   "source": [
    "def get_submission():\n",
    "    from src.graph import build_graph\n",
    "    import pandas as pd\n",
    "\n",
    "    graph = build_graph()\n",
    "\n",
    "    def get_ids(receipts):\n",
    "        list_of_ids = []\n",
    "        for receipt in receipts:\n",
    "            list_of_ids.append(list(receipt.keys())[0])\n",
    "        return list_of_ids\n",
    "\n",
    "    questions_df = pd.read_csv('data/domande.csv')\n",
    "\n",
    "    row_ids = []\n",
    "    results = []\n",
    "\n",
    "    for i, question in enumerate(questions_df['domanda'], 1):\n",
    "        print(i)\n",
    "        try:\n",
    "            result = graph.invoke({'domanda': question})\n",
    "        except Exception as e:\n",
    "            print('ERRROREEEEEEEEEEE')\n",
    "            result = {'receipts': []}\n",
    "        \n",
    "        receipt_ids = get_ids(result['receipts'])\n",
    "        result_str = ','.join(str(id) for id in receipt_ids)\n",
    "        \n",
    "        row_ids.append(i)\n",
    "        results.append(result_str)\n",
    "        with open('results.txt', 'a') as f:\n",
    "            f.write(str(i) + ',\"' + result_str + '\"\\n')\n",
    "\n",
    "    output_df = pd.DataFrame({\n",
    "        'row_id': row_ids,\n",
    "        'result': results\n",
    "    })\n",
    "    output_df.result = output_df.result.astype(str)\n",
    "    output_df.to_csv('results.csv', index=False)\n",
    "\n",
    "get_submission()"
   ]
  },
  {
   "cell_type": "code",
   "execution_count": 3,
   "metadata": {},
   "outputs": [],
   "source": [
    "import pandas as pd\n",
    "\n",
    "df = pd.read_csv('data/Misc/Distanze.csv')"
   ]
  },
  {
   "cell_type": "code",
   "execution_count": null,
   "metadata": {},
   "outputs": [],
   "source": [
    "df[df['/'] == 'Ego']"
   ]
  },
  {
   "cell_type": "code",
   "execution_count": null,
   "metadata": {},
   "outputs": [],
   "source": []
  }
 ],
 "metadata": {
  "kernelspec": {
   "display_name": ".venv",
   "language": "python",
   "name": "python3"
  },
  "language_info": {
   "codemirror_mode": {
    "name": "ipython",
    "version": 3
   },
   "file_extension": ".py",
   "mimetype": "text/x-python",
   "name": "python",
   "nbconvert_exporter": "python",
   "pygments_lexer": "ipython3",
   "version": "3.12.5"
  }
 },
 "nbformat": 4,
 "nbformat_minor": 2
}
